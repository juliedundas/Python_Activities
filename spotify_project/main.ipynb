#Import dependencies
import requests

#Link to Spotify API
response = requests.get("https://developer.spotify.com/")

#Print the response to ensure a successful connection. Response 200 indicates a successful connection
print(response)  

#Create variables to print
# response1 = response.content() # Return the raw bytes of the data payload
# response2 = response.text() # Return a string representation of the data payload
# response3 = response.json() # This method is convenient when the API returns JSON

#Print variables to see what api is returning
#print(response1)
#print(response2)
#print(response3)

